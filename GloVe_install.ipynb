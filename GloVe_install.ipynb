{
 "cells": [
  {
   "cell_type": "code",
   "execution_count": 1,
   "id": "517ec856-6396-467e-afbc-f44f786ce3c9",
   "metadata": {},
   "outputs": [],
   "source": [
    "# !wget https://nlp.stanford.edu/data/glove.6B.zip\n",
    "# !unzip glove.6B.zip\n",
    "\n",
    "# !pip install gensim numpy\n",
    "# from gensim.scripts.glove2word2vec import glove2word2vec\n",
    "\n",
    "# Convert GloVe in word2vec format\n",
    "# glove_input_file = 'glove.6B.300d.txt'\n",
    "# word2vec_output_file = 'glove.6B.300d.word2vec.txt'\n",
    "# glove2word2vec(glove_input_file, word2vec_output_file)"
   ]
  }
 ],
 "metadata": {
  "kernelspec": {
   "display_name": "Python 3 (ipykernel)",
   "language": "python",
   "name": "python3"
  },
  "language_info": {
   "codemirror_mode": {
    "name": "ipython",
    "version": 3
   },
   "file_extension": ".py",
   "mimetype": "text/x-python",
   "name": "python",
   "nbconvert_exporter": "python",
   "pygments_lexer": "ipython3",
   "version": "3.8.10"
  }
 },
 "nbformat": 4,
 "nbformat_minor": 5
}
